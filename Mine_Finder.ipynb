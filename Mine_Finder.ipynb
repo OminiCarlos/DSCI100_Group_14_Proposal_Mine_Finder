{
 "cells": [
  {
   "cell_type": "markdown",
   "id": "51872ae0-899d-43f3-894b-fac3f1f27441",
   "metadata": {},
   "source": [
    "**Title**"
   ]
  },
  {
   "cell_type": "markdown",
   "id": "a012c727-a24c-46e6-bdeb-fe76f9293228",
   "metadata": {},
   "source": [
    "**Introduction**\n",
    "\n",
    "- Provide some relevant background information on the topic so that someone unfamiliar with it will be prepared to understand the rest of your proposal\n",
    "- Clearly state the question you will try to answer with your project\n",
    "- Identify and describe the dataset that will be used to answer the question"
   ]
  },
  {
   "cell_type": "code",
   "execution_count": 1,
   "id": "a72f8e0d-8905-4125-beb8-092c14307da8",
   "metadata": {
    "tags": []
   },
   "outputs": [],
   "source": [
    "### Run this cell before continuing.\n",
    "import random\n",
    "\n",
    "import altair as alt\n",
    "import pandas as pd\n",
    "import numpy as np\n",
    "from sklearn import set_config\n",
    "from sklearn.compose import make_column_transformer\n",
    "from sklearn.metrics.pairwise import euclidean_distances\n",
    "from sklearn.neighbors import KNeighborsClassifier\n",
    "from sklearn.pipeline import make_pipeline\n",
    "from sklearn.preprocessing import OneHotEncoder, StandardScaler\n",
    "\n",
    "\n",
    "# Simplify working with large datasets in Altair\n",
    "alt.data_transformers.disable_max_rows()\n",
    "\n",
    "# Output dataframes instead of arrays\n",
    "set_config(transform_output=\"pandas\")\n",
    "\n",
    "#000\n",
    "#000\n",
    "#000\n",
    "#000"
   ]
  },
  {
   "cell_type": "markdown",
   "id": "f4039717-7ef0-4e36-ac42-bd6587af1ad9",
   "metadata": {},
   "source": [
    "**Preliminary exploratory data analysis:**\n",
    "\n",
    "- Demonstrate that the dataset can be read from the web into Python"
   ]
  },
  {
   "cell_type": "markdown",
   "id": "e0567b47-b77f-45a8-b20d-f12af7ae35d7",
   "metadata": {},
   "source": [
    "**Preliminary exploratory data analysis:**\n",
    "\n",
    "- Demonstrate that the dataset can be read from the web into Python\n",
    "- Clean and wrangle your data into a tidy format\n",
    "- Using only training data, summarize the data in at least one table (this is exploratory data analysis). An example of a useful table could be one that reports the number of observations in each class, the means of the predictor variables you plan to use in your analysis and how many rows have missing data. \n",
    "- Using only training data, visualize the data with at least one plot relevant to the analysis you plan to do (this is exploratory data analysis). An example of a useful visualization could be one that compares the distributions of each of the predictor variables you plan to use in your analysis.\n",
    "\n"
   ]
  },
  {
   "cell_type": "markdown",
   "id": "8a88501f-9fc3-451b-a300-2a4d2c82e117",
   "metadata": {},
   "source": [
    "**Methods**\n",
    "\n",
    "- Explain how you will conduct either your data analysis and which variables/columns you will use. Note - you do not need to use all variables/columns that exist in the raw data set. In fact, that's often not a good idea. For each variable think: is this a useful variable for prediction?\n",
    "- Describe at least one way that you will visualize the results"
   ]
  },
  {
   "cell_type": "markdown",
   "id": "ac191594-8ded-4a3b-a62c-9897b840f614",
   "metadata": {},
   "source": [
    "**Expected outcomes and significance:**\n",
    "- What do you expect to find?\n",
    "We expect to use our classifier to predict whether the object is a mine or a rock.\n",
    "- What impact could such findings have?\n",
    "Such findings are influential because rocks contain information about the landscape and the geological history of that area, and our daily lives depend on minerals and metals.\n",
    "- What future questions could this lead to?\n",
    "This could lead to future questions such as what is the size of the rock/mine and what is the type of the rock/mine. "
   ]
  },
  {
   "cell_type": "markdown",
   "id": "4e70dd70-f3aa-4878-b99a-33b659e5b4fb",
   "metadata": {},
   "source": []
  },
  {
   "cell_type": "markdown",
   "id": "487bcfb2-254f-443e-8bd6-71bf854741b2",
   "metadata": {},
   "source": [
    "aaaa"
   ]
  },
  {
   "cell_type": "code",
   "execution_count": null,
   "id": "fb3a679f-b7f0-43f1-8cfb-125646e28897",
   "metadata": {},
   "outputs": [],
   "source": []
  }
 ],
 "metadata": {
  "kernelspec": {
   "display_name": "Python 3 (ipykernel)",
   "language": "python",
   "name": "python3"
  },
  "language_info": {
   "codemirror_mode": {
    "name": "ipython",
    "version": 3
   },
   "file_extension": ".py",
   "mimetype": "text/x-python",
   "name": "python",
   "nbconvert_exporter": "python",
   "pygments_lexer": "ipython3",
   "version": "3.10.8"
  }
 },
 "nbformat": 4,
 "nbformat_minor": 5
}
